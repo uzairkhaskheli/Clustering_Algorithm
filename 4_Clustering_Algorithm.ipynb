{
  "nbformat": 4,
  "nbformat_minor": 0,
  "metadata": {
    "colab": {
      "name": "Clustering Algorithm.ipynb",
      "provenance": [],
      "collapsed_sections": []
    },
    "kernelspec": {
      "name": "python3",
      "display_name": "Python 3"
    },
    "language_info": {
      "name": "python"
    }
  },
  "cells": [
    {
      "cell_type": "markdown",
      "source": [
        "# **Clustering Programming:**\n",
        "\n",
        "In this task you are asked to implement a single-pass clustering algorithm in Python. The algorithm is a simplified version of the k-Means algorithm. Download assignment04.ipynb and data.csv to use it as template for your implementation. The template loads the data, processes it, and bundles it for clustering. You must implement the single-pass clustering in the do_cluster function, see the comments there for details. You may not\n",
        "import or use any additional modules. Only the the Python standard functionality is allowed for the implementation."
      ],
      "metadata": {
        "id": "UdQrqVA4I2ai"
      }
    },
    {
      "cell_type": "code",
      "execution_count": 1,
      "metadata": {
        "id": "oObvlllVH0FC"
      },
      "outputs": [],
      "source": [
        "# Load modules\n",
        "import csv\n",
        "import numpy as np\n",
        "import pandas as pd\n",
        "import matplotlib.pyplot as plt"
      ]
    },
    {
      "cell_type": "code",
      "source": [
        "# Load data from CSV file\n",
        "df = pd.DataFrame()\n",
        "df = pd.read_csv('data.csv', dtype={'Radius (cm)': float, 'Weight (grams)': float})\n",
        "# Replace zero values with median value within class\n",
        "df = df.groupby(['Fruit (class)']) # sort by class\n",
        "proc_df = pd.DataFrame() # create a new dataframe to collect results\n",
        "for key, group in df: # go over groups\n",
        "  group = group.replace(0, group.median(axis=0)) # replace missing values with median\n",
        "  proc_df = pd.concat([proc_df, group]) # concatenate groups into new dataframe\n",
        "\n",
        "df = proc_df.sort_index() # overwrite original dataframe with results\n",
        "# Normalize\n",
        "radius = df['Radius (cm)']\n",
        "df['Radius (cm)'] = (radius-radius.min())/(radius.max()-radius.min())\n",
        "radius = df['Weight (grams)']\n",
        "df['Weight (grams)'] = (radius-radius.min())/(radius.max()-radius.min())"
      ],
      "metadata": {
        "colab": {
          "base_uri": "https://localhost:8080/"
        },
        "id": "3qUb8zWiJBlG",
        "outputId": "12fe1cd5-17f1-4a32-a202-aeef8c7dcb40"
      },
      "execution_count": 3,
      "outputs": [
        {
          "output_type": "stream",
          "name": "stderr",
          "text": [
            "/usr/local/lib/python3.7/dist-packages/ipykernel_launcher.py:8: FutureWarning: Dropping of nuisance columns in DataFrame reductions (with 'numeric_only=None') is deprecated; in a future version this will raise TypeError.  Select only valid columns before calling the reduction.\n",
            "  \n"
          ]
        }
      ]
    },
    {
      "cell_type": "code",
      "source": [
        "# Radius values\n",
        "radius = list(df['Radius (cm)'])\n",
        "print(radius)"
      ],
      "metadata": {
        "colab": {
          "base_uri": "https://localhost:8080/"
        },
        "id": "7qhza6noJyyN",
        "outputId": "f38b2e3f-5cab-43d4-8bdb-c29af440539e"
      },
      "execution_count": 4,
      "outputs": [
        {
          "output_type": "stream",
          "name": "stdout",
          "text": [
            "[0.06451612903225798, 0.6451612903225805, 0.48387096774193544, 0.16129032258064516, 0.0, 0.1290322580645161, 0.3225806451612903, 1.0, 0.1290322580645161, 0.3548387096774194, 0.5161290322580645, 0.09677419354838704, 0.8064516129032256, 0.7096774193548386, 0.6451612903225805, 0.2580645161290322, 0.7741935483870968, 0.06451612903225798, 0.5161290322580645, 0.6451612903225805, 0.09677419354838704, 0.0, 0.19354838709677422, 0.4193548387096773, 0.6774193548387097, 0.29032258064516125, 0.3548387096774194, 0.1290322580645161, 0.0, 0.3225806451612903, 0.7096774193548386, 0.9354838709677419]\n"
          ]
        }
      ]
    },
    {
      "cell_type": "code",
      "source": [
        "# Weight values\n",
        "weight = list(df['Weight (grams)'])\n",
        "print(weight)"
      ],
      "metadata": {
        "colab": {
          "base_uri": "https://localhost:8080/"
        },
        "id": "6gpxozOmJ5-5",
        "outputId": "74cd2f80-eaca-4fde-e57d-abb805aaf6ce"
      },
      "execution_count": 5,
      "outputs": [
        {
          "output_type": "stream",
          "name": "stdout",
          "text": [
            "[0.15037593984962405, 0.2631578947368421, 1.0, 0.13533834586466165, 0.0, 0.3458646616541353, 0.21804511278195488, 0.7593984962406015, 0.22556390977443608, 0.2932330827067669, 0.45864661654135336, 0.21052631578947367, 0.8421052631578947, 0.6992481203007519, 0.15037593984962405, 0.09774436090225563, 0.5263157894736842, 0.15037593984962405, 0.45864661654135336, 0.7142857142857143, 0.20300751879699247, 0.18045112781954886, 0.24812030075187969, 0.3007518796992481, 0.6466165413533834, 0.43609022556390975, 0.18045112781954886, 0.18796992481203006, 0.0, 0.3383458646616541, 0.7293233082706767, 0.7669172932330827]\n"
          ]
        }
      ]
    },
    {
      "cell_type": "code",
      "source": [
        "# Classes\n",
        "classes = list(df['Fruit (class)'])\n",
        "print(classes)"
      ],
      "metadata": {
        "colab": {
          "base_uri": "https://localhost:8080/"
        },
        "id": "pkf6bhhqJ73w",
        "outputId": "fc58e824-79f9-4ceb-f997-8a25598f1c21"
      },
      "execution_count": 6,
      "outputs": [
        {
          "output_type": "stream",
          "name": "stdout",
          "text": [
            "['Lemon', 'Apple', 'Pear', 'Lemon', 'Lemon', 'Apple', 'Lemon', 'Pear', 'Apple', 'Apple', 'Apple', 'Lemon', 'Pear', 'Pear', 'Lemon', 'Lemon', 'Pear', 'Lemon', 'Apple', 'Pear', 'Lemon', 'Apple', 'Apple', 'Apple', 'Pear', 'Apple', 'Lemon', 'Lemon', 'Lemon', 'Apple', 'Pear', 'Pear']\n"
          ]
        }
      ]
    },
    {
      "cell_type": "code",
      "source": [
        "# Combine radius, weight, and class to tuples (we have to keep the class for later plotting)\n",
        "tuples = list(zip(radius, weight, classes))\n",
        "print(tuples)"
      ],
      "metadata": {
        "colab": {
          "base_uri": "https://localhost:8080/"
        },
        "id": "yXWQAbgNJ91Y",
        "outputId": "d62df056-1267-4922-a609-a3e5f8b8cc32"
      },
      "execution_count": 18,
      "outputs": [
        {
          "output_type": "stream",
          "name": "stdout",
          "text": [
            "[(0.06451612903225798, 0.15037593984962405, 'Lemon'), (0.6451612903225805, 0.2631578947368421, 'Apple'), (0.48387096774193544, 1.0, 'Pear'), (0.16129032258064516, 0.13533834586466165, 'Lemon'), (0.0, 0.0, 'Lemon'), (0.1290322580645161, 0.3458646616541353, 'Apple'), (0.3225806451612903, 0.21804511278195488, 'Lemon'), (1.0, 0.7593984962406015, 'Pear'), (0.1290322580645161, 0.22556390977443608, 'Apple'), (0.3548387096774194, 0.2932330827067669, 'Apple'), (0.5161290322580645, 0.45864661654135336, 'Apple'), (0.09677419354838704, 0.21052631578947367, 'Lemon'), (0.8064516129032256, 0.8421052631578947, 'Pear'), (0.7096774193548386, 0.6992481203007519, 'Pear'), (0.6451612903225805, 0.15037593984962405, 'Lemon'), (0.2580645161290322, 0.09774436090225563, 'Lemon'), (0.7741935483870968, 0.5263157894736842, 'Pear'), (0.06451612903225798, 0.15037593984962405, 'Lemon'), (0.5161290322580645, 0.45864661654135336, 'Apple'), (0.6451612903225805, 0.7142857142857143, 'Pear'), (0.09677419354838704, 0.20300751879699247, 'Lemon'), (0.0, 0.18045112781954886, 'Apple'), (0.19354838709677422, 0.24812030075187969, 'Apple'), (0.4193548387096773, 0.3007518796992481, 'Apple'), (0.6774193548387097, 0.6466165413533834, 'Pear'), (0.29032258064516125, 0.43609022556390975, 'Apple'), (0.3548387096774194, 0.18045112781954886, 'Lemon'), (0.1290322580645161, 0.18796992481203006, 'Lemon'), (0.0, 0.0, 'Lemon'), (0.3225806451612903, 0.3383458646616541, 'Apple'), (0.7096774193548386, 0.7293233082706767, 'Pear'), (0.9354838709677419, 0.7669172932330827, 'Pear')]\n"
          ]
        }
      ]
    },
    {
      "cell_type": "markdown",
      "source": [
        "# **Clustering**"
      ],
      "metadata": {
        "id": "JMsVxuV9KB0l"
      }
    },
    {
      "cell_type": "code",
      "source": [
        "# Squared Euclidean distance (use this as delta function)\n",
        "def distance(p1,p2):\n",
        "  dist = (p2[0]-p1[0])**2+(p2[1]-p1[1])**2\n",
        "  return dist\n",
        "\n",
        "# Takes points as list of tuples and a threshold.\n",
        "# Example call: do_cluster([(2,1,'Apple'),(6,3,'Lemon'),(1,1.5,'Apple'),(2,2,'Pear')], 7)\n",
        "def do_cluster(tuples, threshold):\n",
        "  \n",
        "  ###############################################\n",
        "# IMPLEMENT SINGLE PASS CLUSTERING HERE #\n",
        "###############################################\n",
        "  clusters = [] # Store clusters as lists of object indices initially to \n",
        "      #enable check for identity in the algorithm, i.e. each object is identified␣ by its index\n",
        "  centroids = [] # Store centroids\n",
        "  \n",
        "  for obj_index, obj in enumerate(tuples):\n",
        "    \n",
        "    for cluster_index, cluster in enumerate(clusters):\n",
        "      centroid = centroids[cluster_index] # Look up centroid corresponding to cluster\n",
        "\n",
        "      if distance(obj, centroid) <= threshold:\n",
        "        cluster.append(obj_index) # Add object (represented by its index) to cluster\n",
        "        \n",
        "        weight_object = 1 / len(cluster) # weighting factor of the object\n",
        "        \n",
        "        weight_centroid = (len(cluster) - 1) / len(cluster) # weighting factor of the centroid \n",
        "        \n",
        "        updated_centroid = list(centroid) # As list to allow␣manipulation\n",
        "\n",
        "        # Perform centroid update. The calculation is done element-wise.\n",
        "\n",
        "        for j in range(0, len(updated_centroid) - 1):  # Last element is the class\n",
        "            \n",
        "            updated_centroid[j] = weight_object * obj[j] + weight_centroid * centroid[j]\n",
        "\n",
        "            centroids[cluster_index] = tuple(updated_centroid) # Store updated centroid as tuple again\n",
        "        break # Continue with for loop over objects\n",
        "\n",
        "\n",
        "      # Check whether the current object is assigned to any cluster\n",
        "        # This is where check for object identity is needed\n",
        "    assigned_to_cluster = False\n",
        "    for cluster in clusters:\n",
        "      if obj_index in cluster:\n",
        "        assigned_to_cluster = True\n",
        "        break\n",
        "\n",
        "\n",
        "# Create new cluster and set centroid\n",
        "    if not assigned_to_cluster:\n",
        "      clusters.append([obj_index])\n",
        "      centroids.append(tuples[obj_index])\n",
        "\n",
        "# Convert object indices to objects\n",
        "  for cluster in clusters:\n",
        "    for i, obj_index in enumerate(cluster):\n",
        "            cluster[i] = tuples[obj_index]\n",
        "  return clusters\n",
        "\n",
        "\n",
        "\n",
        "clusters = do_cluster(tuples, 0.33) # distance threshold, aka Delta, is set to 0.33\n",
        "print(clusters)"
      ],
      "metadata": {
        "colab": {
          "base_uri": "https://localhost:8080/"
        },
        "id": "7JvjtbMBJ_7o",
        "outputId": "dff2787e-70b8-4ce2-9be6-d05348aec7a5"
      },
      "execution_count": 26,
      "outputs": [
        {
          "output_type": "stream",
          "name": "stdout",
          "text": [
            "[[(0.06451612903225798, 0.15037593984962405, 'Lemon'), (0.16129032258064516, 0.13533834586466165, 'Lemon'), (0.0, 0.0, 'Lemon'), (0.1290322580645161, 0.3458646616541353, 'Apple'), (0.3225806451612903, 0.21804511278195488, 'Lemon'), (0.1290322580645161, 0.22556390977443608, 'Apple'), (0.3548387096774194, 0.2932330827067669, 'Apple'), (0.5161290322580645, 0.45864661654135336, 'Apple'), (0.09677419354838704, 0.21052631578947367, 'Lemon'), (0.6451612903225805, 0.15037593984962405, 'Lemon'), (0.2580645161290322, 0.09774436090225563, 'Lemon'), (0.06451612903225798, 0.15037593984962405, 'Lemon'), (0.5161290322580645, 0.45864661654135336, 'Apple'), (0.09677419354838704, 0.20300751879699247, 'Lemon'), (0.0, 0.18045112781954886, 'Apple'), (0.19354838709677422, 0.24812030075187969, 'Apple'), (0.4193548387096773, 0.3007518796992481, 'Apple'), (0.29032258064516125, 0.43609022556390975, 'Apple'), (0.3548387096774194, 0.18045112781954886, 'Lemon'), (0.1290322580645161, 0.18796992481203006, 'Lemon'), (0.0, 0.0, 'Lemon'), (0.3225806451612903, 0.3383458646616541, 'Apple')], [(0.6451612903225805, 0.2631578947368421, 'Apple'), (0.7096774193548386, 0.6992481203007519, 'Pear'), (0.7741935483870968, 0.5263157894736842, 'Pear'), (0.6451612903225805, 0.7142857142857143, 'Pear'), (0.6774193548387097, 0.6466165413533834, 'Pear'), (0.7096774193548386, 0.7293233082706767, 'Pear'), (0.9354838709677419, 0.7669172932330827, 'Pear')], [(0.48387096774193544, 1.0, 'Pear'), (1.0, 0.7593984962406015, 'Pear'), (0.8064516129032256, 0.8421052631578947, 'Pear')]]\n"
          ]
        }
      ]
    },
    {
      "cell_type": "markdown",
      "source": [
        "# **Plotting**"
      ],
      "metadata": {
        "id": "WIz5gSh8PI61"
      }
    },
    {
      "cell_type": "code",
      "source": [
        "colors = ['red', 'green', 'blue', 'yellow', 'purple', 'orange'] # provide some colors for the clusters\n",
        "marker = {'Lemon': '*', 'Apple': 'o', 'Pear': 'x'} # different marker for each class\n",
        "\n",
        "i = 0\n",
        "for c in clusters:\n",
        "  tpls = list(zip(*c))\n",
        "  x = tpls[0]\n",
        "  y = tpls[1]\n",
        "  cls = tpls[2]\n",
        "  c = colors[i%len(colors)]\n",
        "  m = [marker[cl] for cl in cls]\n",
        "  for _x, _y, _m in zip(x, y, m):\n",
        "    plt.scatter(_x, _y, c=c, marker=_m)\n",
        "    \n",
        "    i += 1\n",
        "plt.xlabel(\"Radius\")\n",
        "plt.ylabel(\"Weight\")\n",
        "plt.show()"
      ],
      "metadata": {
        "colab": {
          "base_uri": "https://localhost:8080/",
          "height": 279
        },
        "id": "UwMjGectKHqZ",
        "outputId": "37689398-7f79-4bed-a076-ce3d8fe543d3"
      },
      "execution_count": 27,
      "outputs": [
        {
          "output_type": "display_data",
          "data": {
            "text/plain": [
              "<Figure size 432x288 with 1 Axes>"
            ],
            "image/png": "[encoded data removed]"
          },
          "metadata": {
            "needs_background": "light"
          }
        }
      ]
    },
    {
      "cell_type": "code",
      "source": [
        ""
      ],
      "metadata": {
        "id": "PSPi7u7sN6RS"
      },
      "execution_count": null,
      "outputs": []
    }
  ]
}